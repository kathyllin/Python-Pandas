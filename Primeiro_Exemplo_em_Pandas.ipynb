{
  "nbformat": 4,
  "nbformat_minor": 0,
  "metadata": {
    "colab": {
      "provenance": [],
      "authorship_tag": "ABX9TyMCfZWp13DQ+ucA111Ouu4s",
      "include_colab_link": true
    },
    "kernelspec": {
      "name": "python3",
      "display_name": "Python 3"
    },
    "language_info": {
      "name": "python"
    }
  },
  "cells": [
    {
      "cell_type": "markdown",
      "metadata": {
        "id": "view-in-github",
        "colab_type": "text"
      },
      "source": [
        "<a href=\"https://colab.research.google.com/github/kathyllin/Python-Pandas/blob/main/Primeiro_Exemplo_em_Pandas.ipynb\" target=\"_parent\"><img src=\"https://colab.research.google.com/assets/colab-badge.svg\" alt=\"Open In Colab\"/></a>"
      ]
    },
    {
      "cell_type": "markdown",
      "source": [
        "**Primeiro exemplo de Manipulação de dados usando Python Pandas**\n",
        "\n",
        "Autor: Kathyllin Souza\n",
        "\n",
        "Data: 06 de fevereiro de 2023"
      ],
      "metadata": {
        "id": "iUWUozSgUbmf"
      }
    },
    {
      "cell_type": "code",
      "source": [
        "#Importante biblioteca pandas no Python\n",
        "import pandas as pd\n"
      ],
      "metadata": {
        "id": "HvmeonK9J13A"
      },
      "execution_count": 6,
      "outputs": []
    },
    {
      "cell_type": "code",
      "source": [
        "combustiveis_df = pd.read_csv(\"\")"
      ],
      "metadata": {
        "id": "qI8H8T5CX8Pe"
      },
      "execution_count": null,
      "outputs": []
    }
  ]
}